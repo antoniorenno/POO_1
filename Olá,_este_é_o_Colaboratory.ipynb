{
  "cells": [
    {
      "cell_type": "markdown",
      "metadata": {
        "id": "view-in-github",
        "colab_type": "text"
      },
      "source": [
        "<a href=\"https://colab.research.google.com/github/antoniorenno/POO_1/blob/main/Ol%C3%A1%2C_este_%C3%A9_o_Colaboratory.ipynb\" target=\"_parent\"><img src=\"https://colab.research.google.com/assets/colab-badge.svg\" alt=\"Open In Colab\"/></a>"
      ]
    },
    {
      "cell_type": "markdown",
      "source": [
        "## EX01) Farenheit para Celsius\n",
        "\n",
        "\n",
        "> Adicionar aspas\n",
        "\n"
      ],
      "metadata": {
        "id": "a1P9WFQInM6S"
      }
    },
    {
      "cell_type": "code",
      "source": [
        "F = float(input(\"Digite valor em Graus Farenheit: \"))\n",
        "C = (5/9)*(F-32)\n",
        "print(f\"O valor de {F}°F corresponde ao valor de {C}°C\")"
      ],
      "metadata": {
        "colab": {
          "base_uri": "https://localhost:8080/"
        },
        "id": "Bwv9aqSmhy5L",
        "outputId": "916174d4-4e8e-454f-cafe-e869ade62f5c"
      },
      "execution_count": 3,
      "outputs": [
        {
          "output_type": "stream",
          "name": "stdout",
          "text": [
            "Digite valor em Graus Farenheit: 50\n",
            "O valor de 50.0°F corresponde ao valor de 10.0°C\n"
          ]
        }
      ]
    },
    {
      "cell_type": "markdown",
      "source": [
        "Digite valor em Graus Farenheit: 50\n",
        "O valor de 50.0°F corresponde ao valor de 10.0°C"
      ],
      "metadata": {
        "id": "kf3fCpL_hztp"
      }
    },
    {
      "cell_type": "markdown",
      "source": [
        "## EX02) Converter polegadas para mm\n",
        "Entrada: P\n",
        "Processamento: MM = P*25.4\n",
        "Saída: MM"
      ],
      "metadata": {
        "id": "Py8iLJO3kDri"
      }
    },
    {
      "cell_type": "code",
      "source": [
        "P = float(input(\"Digite o valor em Polegadas:\"))\n",
        "MM = P*25.4\n",
        "print(f\"O valor de {P}pol corresponde ao valor de {MM}m\")"
      ],
      "metadata": {
        "id": "MaIX3YBNknoa",
        "outputId": "eefa7af2-c533-44ac-f5e3-46ecaa6fdf3b",
        "colab": {
          "base_uri": "https://localhost:8080/"
        }
      },
      "execution_count": 4,
      "outputs": [
        {
          "output_type": "stream",
          "name": "stdout",
          "text": [
            "Digite o valor em Polegadas:10.001\n",
            "O valor de 10.001pol corresponde ao valor de 254.02539999999996m\n"
          ]
        }
      ]
    },
    {
      "cell_type": "markdown",
      "source": [
        "## PROGRAMA VERIFICADOR DE VOTAÇÃO"
      ],
      "metadata": {
        "id": "E0-hVQcRpO9i"
      }
    },
    {
      "cell_type": "code",
      "source": [
        "#ENTRADA: Idade\n",
        "#SAÍDA: \"Pode votar ou Não\"\n",
        "\n",
        "idade = int(input(\"Digite sua idade: \"))\n",
        "if idade >= 18:\n",
        "    print(\"Pode votar\")\n",
        "else:\n",
        "    print(\"Não pode votar\")"
      ],
      "metadata": {
        "id": "QyQCuOKZpaqj",
        "outputId": "e2b02132-0e62-4b29-fd56-59fc5290664f",
        "colab": {
          "base_uri": "https://localhost:8080/"
        }
      },
      "execution_count": 11,
      "outputs": [
        {
          "output_type": "stream",
          "name": "stdout",
          "text": [
            "Digite sua idade: 19\n",
            "Pode votar\n"
          ]
        }
      ]
    }
  ],
  "metadata": {
    "colab": {
      "name": "Olá, este é o Colaboratory",
      "provenance": [],
      "include_colab_link": true
    },
    "kernelspec": {
      "display_name": "Python 3",
      "name": "python3"
    }
  },
  "nbformat": 4,
  "nbformat_minor": 0
}