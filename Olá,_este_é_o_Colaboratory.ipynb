{
  "cells": [
    {
      "cell_type": "markdown",
      "metadata": {
        "id": "view-in-github",
        "colab_type": "text"
      },
      "source": [
        "<a href=\"https://colab.research.google.com/github/antoniorenno/POO_1/blob/main/Ol%C3%A1%2C_este_%C3%A9_o_Colaboratory.ipynb\" target=\"_parent\"><img src=\"https://colab.research.google.com/assets/colab-badge.svg\" alt=\"Open In Colab\"/></a>"
      ]
    },
    {
      "cell_type": "code",
      "source": [
        "F = float(input(\"Digite valor em Graus Farenheit: \"))\n",
        "C = (5/9)*(F-32)\n",
        "print(f\"O valor de {F}°F corresponde ao valor de {C}°C\")"
      ],
      "metadata": {
        "colab": {
          "base_uri": "https://localhost:8080/"
        },
        "id": "Bwv9aqSmhy5L",
        "outputId": "a2f5df88-539f-4b43-8f52-122d557ef08c"
      },
      "execution_count": 1,
      "outputs": [
        {
          "output_type": "stream",
          "name": "stdout",
          "text": [
            "Digite valor em Graus Farenheit: 50\n",
            "O valor de 50.0°F corresponde ao valor de 10.0°C\n"
          ]
        }
      ]
    },
    {
      "cell_type": "markdown",
      "source": [
        "Digite valor em Graus Farenheit: 50\n",
        "O valor de 50.0°F corresponde ao valor de 10.0°C"
      ],
      "metadata": {
        "id": "kf3fCpL_hztp"
      }
    },
    {
      "cell_type": "markdown",
      "source": [
        "## EX02) Converter polegadas para mm\n",
        "Entrada: P\n",
        "Processamento: MM = P*25.4\n",
        "Saída: MM"
      ],
      "metadata": {
        "id": "Py8iLJO3kDri"
      }
    },
    {
      "cell_type": "code",
      "source": [
        "P = float(input(\"Digite o valor em Polegadas:\"))\n",
        "MM = P*25.4\n",
        "print(f\"O valor de {P}pol corresponde ao valor de {MM}m\")"
      ],
      "metadata": {
        "id": "MaIX3YBNknoa",
        "outputId": "95152ba5-6e1e-4092-f03f-a20760f85be5",
        "colab": {
          "base_uri": "https://localhost:8080/"
        }
      },
      "execution_count": 2,
      "outputs": [
        {
          "output_type": "stream",
          "name": "stdout",
          "text": [
            "Digite o valor em Polegadas:50\n",
            "O valor de 50.0pol corresponde ao valor de 1270.0m\n"
          ]
        }
      ]
    }
  ],
  "metadata": {
    "colab": {
      "name": "Olá, este é o Colaboratory",
      "provenance": [],
      "include_colab_link": true
    },
    "kernelspec": {
      "display_name": "Python 3",
      "name": "python3"
    }
  },
  "nbformat": 4,
  "nbformat_minor": 0
}